{
 "cells": [
  {
   "cell_type": "code",
   "execution_count": 1,
   "metadata": {
    "collapsed": true
   },
   "outputs": [
    {
     "data": {
      "text/plain": "<IPython.lib.display.IFrame at 0x28db4e8e460>",
      "text/html": "\n        <iframe\n            width=\"1000\"\n            height=\"700\"\n            src=\"https://zhuanlan.zhihu.com/p/371239130\"\n            frameborder=\"0\"\n            allowfullscreen\n        ></iframe>\n        "
     },
     "execution_count": 1,
     "metadata": {},
     "output_type": "execute_result"
    }
   ],
   "source": [
    "# -*- coding:utf-8 -*-\n",
    "# 主要参考知乎，先配置了主要的环境，我的主机显卡为2060ti，python版本3.6.10，配置的环境版本为 TensorRT8.5 + CUDA11.7 + cuDNN8.6\n",
    "# 还有安装onnxruntime、tensorrt-python等接口工具，可以直接使用pip，踩坑的话可以简单的百度一下，这里我没有遇到任何坑。\n",
    "from IPython.display import IFrame\n",
    "IFrame('https://zhuanlan.zhihu.com/p/371239130', width=1000, height=700)"
   ]
  },
  {
   "cell_type": "markdown",
   "source": [
    "\n",
    "### tips 1\n",
    "安装TensorRT的过程中，可以将lib和include文件夹下的dll文件和lib文件像安装cuDNN一样复制到CUDA目录下，这样可以不用增加环境变量（安装CUDA的时候已经添加过了）。最后`TensorRT/bi`n`路径最好加入PATH，因为后面会使用到trtexec。\n"
   ],
   "metadata": {
    "collapsed": false
   }
  },
  {
   "cell_type": "markdown",
   "source": [
    "### tips 2\n",
    "使用trtexec\n",
    "可以参考 `trtexec --help` 里的参数引导，这里比较需要注意的是默认精度是fp32/tf32的，如果需要转换成fp16的话需要在命令行加上`--fp16`，`int8`同理,其他参数可以参考![链接](https://www.cnblogs.com/michaelcjl/p/16643306.html)。我在转换时出现了failed，提示`could not locate zlibwapi.dll` ，是通过百度后下载解压了zlibx64.zip，复制其中zlibwapi.dll和zlibwapi.lib到CUDA对应路径后解决的。还有一个提示是`CUDA lazy loading is not enabled`，这个并没有导致转换失败，可以查到的原因是因为我没有指定Oracle环境变量导致的，暂不清楚会导致什么后果。"
   ],
   "metadata": {
    "collapsed": false
   }
  }
 ],
 "metadata": {
  "kernelspec": {
   "display_name": "Python 3",
   "language": "python",
   "name": "python3"
  },
  "language_info": {
   "codemirror_mode": {
    "name": "ipython",
    "version": 2
   },
   "file_extension": ".py",
   "mimetype": "text/x-python",
   "name": "python",
   "nbconvert_exporter": "python",
   "pygments_lexer": "ipython2",
   "version": "2.7.6"
  }
 },
 "nbformat": 4,
 "nbformat_minor": 0
}
